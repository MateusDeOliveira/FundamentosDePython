{
 "cells": [
  {
   "cell_type": "markdown",
   "metadata": {},
   "source": [
    "# Fundamentos de Python"
   ]
  },
  {
   "cell_type": "markdown",
   "metadata": {},
   "source": [
    "## Python - História - Aula v1"
   ]
  },
  {
   "cell_type": "markdown",
   "metadata": {},
   "source": [
    "Python é uma linguagem de programação de alto nível, interpretada, de script, imperativa, orientada a objetos, funcional, de tipagem dinâmica e forte. Foi criada por ***Guido van Rossum*** em 1991."
   ]
  },
  {
   "cell_type": "markdown",
   "metadata": {},
   "source": [
    "A linguagem foi projetada com a filosofia de enfatizar a importância do esforço do programador sobre o esforço computacional. Prioriza a legibilidade do código sobre a velocidade ou expressividade, com isso , Python usa a identação como delimitação de seu código e não símbolos como: \" **;** \", \" **()** \", \" **{}** \" e etc. Combina uma sintaxe concisa e clara com os recursos de sua biblioteca altamente poderosa e por módulos e frameworks desenvolvidos por terceiros."
   ]
  },
  {
   "cell_type": "markdown",
   "metadata": {},
   "source": [
    "Python é uma linguagem de propósito geral de alto nível , multiplataforma, suporta o paradigma da orientação à objetos, imperativo, funcional e procedural. Possui uma tipagem dinâmica e uma de suas principais características é permitir a fácil leitura do código e exigir poucas linhas de códigos se comparado ao mesmo programa em outras linguagens. Devido às suas características ela é principalmente usada para processamento de textos, data science e criação de CGIs para páginas dinâmicas a web."
   ]
  },
  {
   "cell_type": "markdown",
   "metadata": {},
   "source": [
    "O nome Python teve origem por causa do programa chamado ***Monty Python's Flying circus***, embora muitas pessoas façam associação com o répitl do mesmo nome."
   ]
  },
  {
   "cell_type": "markdown",
   "metadata": {},
   "source": [
    "Python foi concebido no final de 1989 por ***Guido van Rossum*** no Instituto de Pesquisa Nacional para matemática e Ciência da Computação (CWI), nos Países Baixos, como um sucessor da ABC capaz de tratar exceções e prover interface com o sistema operacional Amoeba através de scripts. Em 1991, Guido publicou o código(nomeado versão 0.9.0) no grupo de discussão alt.sources. A versão 1.0 foi lançada em janeiro de 1994. Novas funcionalidades incluíam ferramentas para programação funcional como lambda, map, filter e reduce. A última versão enquanto Guido estava na CWI foi Python 1.2. Em 1995, ele continuou o trabalho no CNRI em ***Reston, Estados Unidos***, de onde lançou diversas versões. Na versão 1.4 a linguagem ganhou parâmetros nomeados (a capacidade de passar parâmetro pelo nome e não pela posição na lista de parâmetros) e suporte nativo a números complexos assim como uma forma de encapsulamento."
   ]
  },
  {
   "cell_type": "markdown",
   "metadata": {},
   "source": [
    "Uma curiosidade do Python é um ***easter egg*** , ***O The Zen of Python***, um poema que faz parte do documento \"PEP 20\", escrito pelo programador em Python de longa data **Tim Peters**, descrevendo sumariamente a filosofia do Python. Pode-se vê-lo executando o comando:"
   ]
  },
  {
   "cell_type": "markdown",
   "metadata": {},
   "source": [
    "> **```>>> import this```**"
   ]
  },
  {
   "cell_type": "markdown",
   "metadata": {},
   "source": [
    "Agora vamos ver um exemplo de código feito em **Python** : "
   ]
  },
  {
   "cell_type": "markdown",
   "metadata": {},
   "source": [
    "Entrada:\n",
    "\n",
    "> **>>> print('Hello World')**"
   ]
  },
  {
   "cell_type": "markdown",
   "metadata": {},
   "source": [
    "Saída: \n",
    "\n",
    "> **>>> Hello World**"
   ]
  },
  {
   "cell_type": "markdown",
   "metadata": {},
   "source": [
    "***Fim, até a próxima aula do curso Fundamentos de Python***"
   ]
  }
 ],
 "metadata": {
  "kernelspec": {
   "display_name": "Python 3",
   "language": "python",
   "name": "python3"
  },
  "language_info": {
   "codemirror_mode": {
    "name": "ipython",
    "version": 3
   },
   "file_extension": ".py",
   "mimetype": "text/x-python",
   "name": "python",
   "nbconvert_exporter": "python",
   "pygments_lexer": "ipython3",
   "version": "3.6.1"
  }
 },
 "nbformat": 4,
 "nbformat_minor": 2
}
